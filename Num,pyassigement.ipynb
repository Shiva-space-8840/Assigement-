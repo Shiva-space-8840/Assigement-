{
  "nbformat": 4,
  "nbformat_minor": 0,
  "metadata": {
    "colab": {
      "provenance": [],
      "authorship_tag": "ABX9TyMpEq+Z0MhSK+8hsjNzYiwS",
      "include_colab_link": true
    },
    "kernelspec": {
      "name": "python3",
      "display_name": "Python 3"
    },
    "language_info": {
      "name": "python"
    }
  },
  "cells": [
    {
      "cell_type": "markdown",
      "metadata": {
        "id": "view-in-github",
        "colab_type": "text"
      },
      "source": [
        "<a href=\"https://colab.research.google.com/github/Shiva-space-8840/Assigement-/blob/main/Num%2Cpyassigement.ipynb\" target=\"_parent\"><img src=\"https://colab.research.google.com/assets/colab-badge.svg\" alt=\"Open In Colab\"/></a>"
      ]
    },
    {
      "cell_type": "code",
      "execution_count": null,
      "metadata": {
        "colab": {
          "base_uri": "https://localhost:8080/"
        },
        "id": "X6xk4B9_zZti",
        "outputId": "ba7fa3a8-829a-41be-f601-3629bb20662d"
      },
      "outputs": [
        {
          "output_type": "stream",
          "name": "stdout",
          "text": [
            "int64\n"
          ]
        }
      ],
      "source": [
        "#  1. Create a NumPy array 'arr' of integers from 0 to 5 and print its data type.\n",
        "\n",
        "\n",
        "import numpy as np\n",
        "\n",
        "arr = np.array([0, 1, 2, 3, 4, 5])\n",
        "print(arr.dtype)"
      ]
    },
    {
      "cell_type": "code",
      "source": [
        "#2. Given a NumPy array 'arr', check if its data type is float64.\n",
        "   #arr = np.array([1.5, 2.6, 3.7])\n",
        "\n",
        "\n",
        "import numpy as np\n",
        "\n",
        "arr = np.array([1.5, 2.6, 3.7])\n",
        "print(arr.dtype)"
      ],
      "metadata": {
        "colab": {
          "base_uri": "https://localhost:8080/"
        },
        "id": "o6BVVtEPztLt",
        "outputId": "1d72f1c0-64af-49c6-a23f-612bee5e9c19"
      },
      "execution_count": null,
      "outputs": [
        {
          "output_type": "stream",
          "name": "stdout",
          "text": [
            "float64\n"
          ]
        }
      ]
    },
    {
      "cell_type": "code",
      "source": [
        "#3.Create a NumPy array 'arr' with a data type of complex128 containing three complex numbers.\n",
        "import numpy as np\n",
        "arr = np.array([1+2j, 3-4j, 5+6j], dtype=np.complex128)\n",
        "print(arr.dtype)"
      ],
      "metadata": {
        "colab": {
          "base_uri": "https://localhost:8080/"
        },
        "id": "yQOOfaS8z673",
        "outputId": "0dc8fe5d-8907-4906-bc8f-422719cf477f"
      },
      "execution_count": null,
      "outputs": [
        {
          "output_type": "stream",
          "name": "stdout",
          "text": [
            "complex128\n"
          ]
        }
      ]
    },
    {
      "cell_type": "code",
      "source": [
        "#4.Convert an existing NumPy array 'arr' of integers to float32 data type.\n",
        "\n",
        "import numpy as np\n",
        "arr = np.array([1, 2, 3, 4, 5])\n",
        "arr_float32 = arr.astype(np.float32)\n",
        "print(arr_float32)\n",
        "\n"
      ],
      "metadata": {
        "colab": {
          "base_uri": "https://localhost:8080/"
        },
        "id": "Kv6QStOw2Dpc",
        "outputId": "eee2c6fc-fca2-4633-e7d3-edf808759835"
      },
      "execution_count": null,
      "outputs": [
        {
          "output_type": "stream",
          "name": "stdout",
          "text": [
            "[1. 2. 3. 4. 5.]\n"
          ]
        }
      ]
    },
    {
      "cell_type": "code",
      "source": [
        "#5. Given a NumPy array 'arr' with float64 data type, convert it to float32 to reduce decimal precision.\n",
        "import numpy as np\n",
        "arr = np.array([1.123456789, 2.987654321, 3.456789123])\n",
        "arr1 = arr.astype(np.float64)\n",
        "print(arr1)\n",
        "arr1.dtype\n",
        "##########  Convert ##################\n",
        "print('Convert float64 to float32')\n",
        "arr2=arr.astype(np.float32)\n",
        "print(arr2)\n",
        "print(arr2.dtype)"
      ],
      "metadata": {
        "colab": {
          "base_uri": "https://localhost:8080/"
        },
        "id": "J_k_0Rx129Ja",
        "outputId": "9391c014-8dc4-42a9-d236-6bd81632fcb5"
      },
      "execution_count": null,
      "outputs": [
        {
          "output_type": "stream",
          "name": "stdout",
          "text": [
            "[1.12345679 2.98765432 3.45678912]\n",
            "Convert float64 to float32\n",
            "[1.1234568 2.9876542 3.456789 ]\n",
            "float32\n"
          ]
        }
      ]
    },
    {
      "cell_type": "code",
      "source": [
        "#6. Write a function array_attributes that takes a NumPy array as input and returns its shape, size, and data type.\n",
        "\n",
        "import numpy as np\n",
        "\n",
        "def array_attributes(arr):\n",
        "    shape = arr.shape\n",
        "    size = arr.size\n",
        "    dtype = arr.dtype\n",
        "    return shape, size, dtype\n",
        "arr = np.array([[1, 2, 3], [4, 5, 6],[8,9,11]])\n",
        "shape, size, dtype = array_attributes(arr)\n",
        "print(\"Shape:\", shape)\n",
        "print(\"Size:\", size)\n",
        "print(\"Data type:\", dtype)\n"
      ],
      "metadata": {
        "colab": {
          "base_uri": "https://localhost:8080/"
        },
        "id": "T97cdw2d3w4O",
        "outputId": "ce2e0fcb-6358-4ed0-a0cf-50ec2baddeab"
      },
      "execution_count": null,
      "outputs": [
        {
          "output_type": "stream",
          "name": "stdout",
          "text": [
            "Shape: (3, 3)\n",
            "Size: 9\n",
            "Data type: int64\n"
          ]
        }
      ]
    },
    {
      "cell_type": "code",
      "source": [
        "'''Q 7 Create a function array_dimension that takes a NumPy array as input and returns its dimensionality.'''\n",
        "def array_dimension(arr):\n",
        "    return arr.ndim\n",
        "arr_1d = np.array([1, 2, 3])\n",
        "arr_2d = np.array([[1, 2], [3, 4]])\n",
        "arr_3d = np.array([[[1, 2], [3, 4]], [[5, 6], [7, 8]]])\n",
        "arr_4d = np.array([[[[1,2],[3,4],[5,6],[7,8]]]])\n",
        "print(\"Dimension of arr_1d:\", array_dimension(arr_1d))\n",
        "print(\"Dimension of arr_2d:\", array_dimension(arr_2d))\n",
        "print(\"Dimension of arr_3d:\", array_dimension(arr_3d))\n",
        "print(\"Dimension of arr_4:\",  array_dimension(arr_4d))"
      ],
      "metadata": {
        "colab": {
          "base_uri": "https://localhost:8080/"
        },
        "id": "3DgxYFy-6962",
        "outputId": "864205d4-1234-4cef-e406-4ecc8f75e09a"
      },
      "execution_count": null,
      "outputs": [
        {
          "output_type": "stream",
          "name": "stdout",
          "text": [
            "Dimension of arr_1d: 1\n",
            "Dimension of arr_2d: 2\n",
            "Dimension of arr_3d: 3\n",
            "Dimension of arr_4: 4\n"
          ]
        }
      ]
    },
    {
      "cell_type": "code",
      "source": [
        "# 8. 8. Design a function item_size_info that takes a NumPy array as input and returns the item size and the total size in bytes.\n",
        "import numpy as np\n",
        "\n",
        "def item_size_info(arr):\n",
        "    item_size = arr.itemsize\n",
        "    total_size = arr.nbytes\n",
        "    return item_size, total_size\n",
        "arr = np.array([[1, 2, 3,7], [4, 5, 6,8]])\n",
        "item_size, total_size = item_size_info(arr)\n",
        "print(\"Item size (in bytes):\", item_size)\n",
        "print(\"Total size (in bytes):\", total_size)"
      ],
      "metadata": {
        "colab": {
          "base_uri": "https://localhost:8080/"
        },
        "id": "ysKyJICN-4GQ",
        "outputId": "60590d73-d6cd-4dba-eaa9-02bab2e9233a"
      },
      "execution_count": null,
      "outputs": [
        {
          "output_type": "stream",
          "name": "stdout",
          "text": [
            "Item size (in bytes): 8\n",
            "Total size (in bytes): 64\n"
          ]
        }
      ]
    },
    {
      "cell_type": "code",
      "source": [
        "# 9. Create a function array_strides that takes a NumPy array as input and returns the strides of the array.\n",
        "import numpy as np\n",
        "\n",
        "def array_strides(arr):\n",
        "    return arr.strides\n",
        "arr = np.array([[1, 2, 3], [4, 5, 6], [7, 8, 9]])\n",
        "print(\"Array strides:\", array_strides(arr))\n"
      ],
      "metadata": {
        "id": "2s9OyHmBDp03",
        "colab": {
          "base_uri": "https://localhost:8080/"
        },
        "outputId": "6052fe1b-9b10-457f-a20b-013a36785768"
      },
      "execution_count": null,
      "outputs": [
        {
          "output_type": "stream",
          "name": "stdout",
          "text": [
            "Array strides: (24, 8)\n"
          ]
        }
      ]
    },
    {
      "cell_type": "code",
      "source": [
        "# 10. Design a function shape_stride_relationship that takes a NumPy array as input and returns the shape and strides of the array.\n",
        "import numpy as np\n",
        "\n",
        "def shape_stride_relationship(arr):\n",
        "    return arr.shape, arr.strides\n",
        "arr = np.array([[1, 2, 3], [4, 5, 6], [7, 8, 9]])\n",
        "shape, strides = shape_stride_relationship(arr)\n",
        "print(\"Array shape:\", shape)\n",
        "print(\"Array strides:\", strides)\n"
      ],
      "metadata": {
        "colab": {
          "base_uri": "https://localhost:8080/"
        },
        "id": "-2mvrzaetpOL",
        "outputId": "635a9b81-51d3-4491-8ac5-d479939605a6"
      },
      "execution_count": null,
      "outputs": [
        {
          "output_type": "stream",
          "name": "stdout",
          "text": [
            "Array shape: (3, 3)\n",
            "Array strides: (24, 8)\n"
          ]
        }
      ]
    },
    {
      "cell_type": "code",
      "source": [
        "# 11. Create a function `create_zeros_array` that takes an integer `n` as input and returns a NumPy array of zeros with `n` elements.\n",
        "import numpy as np\n",
        "\n",
        "def create_zeros_array(a):\n",
        "    return np.zeros(a)\n",
        "a = 5\n",
        "zeros_arr = create_zeros_array(a)\n",
        "print(\"Zeros array with\", a, \"elements:\", zeros_arr)\n"
      ],
      "metadata": {
        "colab": {
          "base_uri": "https://localhost:8080/"
        },
        "id": "1tJPM3YEt-tS",
        "outputId": "a1688619-aa23-4453-94ca-1ff3faa7c009"
      },
      "execution_count": null,
      "outputs": [
        {
          "output_type": "stream",
          "name": "stdout",
          "text": [
            "Zeros array with 5 elements: [0. 0. 0. 0. 0.]\n"
          ]
        }
      ]
    },
    {
      "cell_type": "code",
      "source": [
        "# 12. Write a function `create_ones_matrix` that takes integers `rows` and `cols` as inputs and generates a 2D NumPy array filled with ones of size `rows x cols`.\n",
        "import numpy as np\n",
        "\n",
        "def create_ones_matrix(rows, cols):\n",
        "    return np.ones((rows, cols))\n",
        "rows = 4\n",
        "cols = 5\n",
        "ones_matrix = create_ones_matrix(rows, cols)\n",
        "print(\"Ones matrix of size\", rows, \"x\", cols, \":\", ones_matrix)\n"
      ],
      "metadata": {
        "colab": {
          "base_uri": "https://localhost:8080/"
        },
        "id": "FZnTKHV0uTTE",
        "outputId": "6f17ee32-d2be-487d-87b5-917f2cd5895a"
      },
      "execution_count": null,
      "outputs": [
        {
          "output_type": "stream",
          "name": "stdout",
          "text": [
            "Ones matrix of size 4 x 5 : [[1. 1. 1. 1. 1.]\n",
            " [1. 1. 1. 1. 1.]\n",
            " [1. 1. 1. 1. 1.]\n",
            " [1. 1. 1. 1. 1.]]\n"
          ]
        }
      ]
    },
    {
      "cell_type": "code",
      "source": [
        "# 13. Write a function `generate_range_array` that takes three integers start, stop, and step as arguments and creates a NumPy array with a range starting from `start`, ending at stop (exclusive), and with the specified step.\n",
        "import numpy as np\n",
        "\n",
        "def generate_range_array(start, stop, step):\n",
        "    return np.arange(start, stop, step)\n",
        "\n",
        "# Example usage:\n",
        "start = 1\n",
        "stop = 20\n",
        "step = 3\n",
        "range_array = generate_range_array(start, stop, step)\n",
        "print(\"Generated array:\", range_array)\n"
      ],
      "metadata": {
        "colab": {
          "base_uri": "https://localhost:8080/"
        },
        "id": "pBVNhp2rusV1",
        "outputId": "69e3df1a-ac2d-4e11-af23-5f0606e216b1"
      },
      "execution_count": null,
      "outputs": [
        {
          "output_type": "stream",
          "name": "stdout",
          "text": [
            "Generated array: [ 1  4  7 10 13 16 19]\n"
          ]
        }
      ]
    },
    {
      "cell_type": "code",
      "source": [
        "import numpy as np\n",
        "\n",
        "def generate_linear_space(start, stop, num):\n",
        "    return np.linspace(start, stop, num)\n",
        "\n",
        "# Example usage:\n",
        "start = 1\n",
        "stop = 20\n",
        "num = 5\n",
        "linear_space_array = generate_linear_space(start, stop, num)\n",
        "print(\"Generated linear space array:\", linear_space_array)\n"
      ],
      "metadata": {
        "colab": {
          "base_uri": "https://localhost:8080/"
        },
        "id": "9p3STiQIvSFt",
        "outputId": "55dca809-a6db-43e0-bb03-57c98e78941a"
      },
      "execution_count": null,
      "outputs": [
        {
          "output_type": "stream",
          "name": "stdout",
          "text": [
            "Generated linear space array: [ 1.    5.75 10.5  15.25 20.  ]\n"
          ]
        }
      ]
    },
    {
      "cell_type": "code",
      "source": [],
      "metadata": {
        "id": "8k7NsLuu2sxx"
      },
      "execution_count": null,
      "outputs": []
    },
    {
      "cell_type": "code",
      "source": [
        "# 15. Create a function `create_identity_matrix` that takes an integer `n` as input and generates a square identity matrix of size `n x n` using `numpy.eye`.\n",
        "import numpy as np\n",
        "\n",
        "def create_identity_matrix(n):\n",
        "    return np.eye(n)\n",
        "n = 6\n",
        "identity_matrix = create_identity_matrix(n)\n",
        "print(\"Identity matrix of size\", n, \"x\", n, \":\\n\", identity_matrix)\n"
      ],
      "metadata": {
        "colab": {
          "base_uri": "https://localhost:8080/"
        },
        "id": "CeaX0z2h4rye",
        "outputId": "66dc2141-6fe7-4c65-909f-1c703c5234ea"
      },
      "execution_count": null,
      "outputs": [
        {
          "output_type": "stream",
          "name": "stdout",
          "text": [
            "Identity matrix of size 6 x 6 :\n",
            " [[1. 0. 0. 0. 0. 0.]\n",
            " [0. 1. 0. 0. 0. 0.]\n",
            " [0. 0. 1. 0. 0. 0.]\n",
            " [0. 0. 0. 1. 0. 0.]\n",
            " [0. 0. 0. 0. 1. 0.]\n",
            " [0. 0. 0. 0. 0. 1.]]\n"
          ]
        }
      ]
    },
    {
      "cell_type": "code",
      "source": [
        "#16. Write a function that takes a Python list and converts it into a NumPy array.\n",
        "import numpy as np\n",
        "\n",
        "def list_to_numpy_array(lst):\n",
        "    return np.array(lst)\n",
        "my_list = [10, 20, 35, 45, 50]\n",
        "array = list_to_numpy_array(my_list)\n",
        "print(\"NumPy array:\",array)\n"
      ],
      "metadata": {
        "colab": {
          "base_uri": "https://localhost:8080/"
        },
        "id": "M8M0aiKg75mk",
        "outputId": "1a9cd76a-99f1-4307-96f3-135ef18485fd"
      },
      "execution_count": null,
      "outputs": [
        {
          "output_type": "stream",
          "name": "stdout",
          "text": [
            "NumPy array: [10 20 35 45 50]\n"
          ]
        }
      ]
    },
    {
      "cell_type": "code",
      "source": [
        "# 17. Create a NumPy array and demonstrate the use of `numpy.view` to create a new array object with the same data.\n",
        "import numpy as np\n",
        "original_array = np.array([[1, 2, 3], [4, 5, 6]])\n",
        "view_array = original_array.view()\n",
        "view_array[0, 0] = 100\n",
        "print(\"Original array:\\n\", original_array)\n",
        "print(\"View array:\\n\", view_array)\n"
      ],
      "metadata": {
        "colab": {
          "base_uri": "https://localhost:8080/"
        },
        "id": "7f_lKq7i9gZ9",
        "outputId": "4f2be5e8-ed3a-4cda-9234-815fa616c9e9"
      },
      "execution_count": null,
      "outputs": [
        {
          "output_type": "stream",
          "name": "stdout",
          "text": [
            "Original array:\n",
            " [[100   2   3]\n",
            " [  4   5   6]]\n",
            "View array:\n",
            " [[100   2   3]\n",
            " [  4   5   6]]\n"
          ]
        }
      ]
    },
    {
      "cell_type": "code",
      "source": [
        "# 18. Write a function that takes two NumPy arrays and concatenates them along a specified axis.\n",
        "import numpy as np\n",
        "def concatenate_arrays(arr1, arr2, axis=0):\n",
        "  return np.concatenate((arr1, arr2), axis=0)\n",
        "arr1 = np.array([[1, 2], [3, 4]])\n",
        "arr2 = np.array([[5, 6]])\n",
        "concatenated_array = np.concatenate((arr1, arr2), axis=0)\n",
        "print(concatenated_array)\n"
      ],
      "metadata": {
        "id": "ARcomn4Q_lJ4",
        "colab": {
          "base_uri": "https://localhost:8080/"
        },
        "outputId": "80206873-fdef-472a-949f-e3b6d67cbb8d"
      },
      "execution_count": null,
      "outputs": [
        {
          "output_type": "stream",
          "name": "stdout",
          "text": [
            "[[1 2]\n",
            " [3 4]\n",
            " [5 6]]\n"
          ]
        }
      ]
    },
    {
      "cell_type": "code",
      "source": [
        "# 19. Create two NumPy arrays with different shapes and concatenate them horizontally using `numpy.concatenate`.\n",
        "import numpy as np\n",
        "arr1 = np.array([[1, 2, 3],\n",
        "                 [4, 5, 6]])\n",
        "arr2 = np.array([[7, 8],\n",
        "                 [9, 10]])\n",
        "concatenated_array = np.concatenate((arr1, arr2), axis=1)\n",
        "\n",
        "print(\"Array 1:\")\n",
        "print(arr1)\n",
        "print(\"\\nArray 2:\")\n",
        "print(arr2)\n",
        "print(\"\\nConcatenated array horizontally:\")\n",
        "print(concatenated_array)\n"
      ],
      "metadata": {
        "colab": {
          "base_uri": "https://localhost:8080/"
        },
        "id": "OF43jz4e6uvL",
        "outputId": "0ef9256e-a47a-4675-dbc8-d73d4204843e"
      },
      "execution_count": null,
      "outputs": [
        {
          "output_type": "stream",
          "name": "stdout",
          "text": [
            "Array 1:\n",
            "[[1 2 3]\n",
            " [4 5 6]]\n",
            "\n",
            "Array 2:\n",
            "[[ 7  8]\n",
            " [ 9 10]]\n",
            "\n",
            "Concatenated array horizontally:\n",
            "[[ 1  2  3  7  8]\n",
            " [ 4  5  6  9 10]]\n"
          ]
        }
      ]
    },
    {
      "cell_type": "code",
      "source": [
        "# 20. . Write a function that vertically stacks multiple NumPy arrays given as a list.\n",
        "\n",
        "import numpy as np\n",
        "\n",
        "def stack_arrays_vertically(arrays):\n",
        "    return np.vstack(arrays)\n",
        "arr1 = np.array([[1, 2], [3, 4]])\n",
        "arr2 = np.array([[5, 6], [7, 8]])\n",
        "arr3 = np.array([[9, 10], [11, 12]])\n",
        "\n",
        "stacked_array = stack_arrays_vertically([arr1, arr2, arr3])\n",
        "print(stacked_array)\n"
      ],
      "metadata": {
        "colab": {
          "base_uri": "https://localhost:8080/"
        },
        "id": "Tj3P4bZY8tqL",
        "outputId": "08210835-165b-4d69-ee3e-7f1d0201e54e"
      },
      "execution_count": null,
      "outputs": [
        {
          "output_type": "stream",
          "name": "stdout",
          "text": [
            "[[ 1  2]\n",
            " [ 3  4]\n",
            " [ 5  6]\n",
            " [ 7  8]\n",
            " [ 9 10]\n",
            " [11 12]]\n"
          ]
        }
      ]
    },
    {
      "cell_type": "code",
      "source": [
        "# 21.21. Write a Python function using NumPy to create an array of integers within a specified range (inclusive) with a given step size.\n",
        "import numpy as np\n",
        "\n",
        "def create_integer_array(start, stop, step):\n",
        "    return np.arange(start, stop+1, step, dtype=int)\n",
        "start = 0\n",
        "stop = 50\n",
        "step = 5\n",
        "result = create_integer_array(start, stop, step)\n",
        "print(result)\n"
      ],
      "metadata": {
        "colab": {
          "base_uri": "https://localhost:8080/"
        },
        "id": "XoZ3R4cHBzhp",
        "outputId": "278532c0-a830-4eff-9266-dcc9c8821344"
      },
      "execution_count": null,
      "outputs": [
        {
          "output_type": "stream",
          "name": "stdout",
          "text": [
            "[ 0  5 10 15 20 25 30 35 40 45 50]\n"
          ]
        }
      ]
    },
    {
      "cell_type": "code",
      "source": [
        "#22. Write a Python function using NumPy to generate an array of 10 equally spaced values between 0 and 1 (inclusive).\n",
        "import numpy as np\n",
        "\n",
        "def generate_equally_spaced_values():\n",
        "    return np.linspace(0, 1, 10)\n",
        "result = generate_equally_spaced_values()\n",
        "print(result)\n",
        "\n"
      ],
      "metadata": {
        "colab": {
          "base_uri": "https://localhost:8080/"
        },
        "id": "_S4AodvFCzMy",
        "outputId": "06cc8e44-ff49-463f-d2a2-d03e6058c79b"
      },
      "execution_count": null,
      "outputs": [
        {
          "output_type": "stream",
          "name": "stdout",
          "text": [
            "[0.         0.11111111 0.22222222 0.33333333 0.44444444 0.55555556\n",
            " 0.66666667 0.77777778 0.88888889 1.        ]\n"
          ]
        }
      ]
    },
    {
      "cell_type": "code",
      "source": [
        "#23. Write a Python function using NumPy to create an array of 5 logarithmically spaced values between 1 and 1000 (inclusive).\n",
        "import numpy as np\n",
        "\n",
        "def generate_logarithmically_spaced_values():\n",
        "    return np.logspace(start=np.log10(1), stop=np.log10(1000), num=5)\n",
        "result = generate_logarithmically_spaced_values()\n",
        "print(result)\n"
      ],
      "metadata": {
        "colab": {
          "base_uri": "https://localhost:8080/"
        },
        "id": "iQzAg_lYDfek",
        "outputId": "d59742fe-4e73-4673-9aad-ee8907f3a86c"
      },
      "execution_count": null,
      "outputs": [
        {
          "output_type": "stream",
          "name": "stdout",
          "text": [
            "[   1.            5.62341325   31.6227766   177.827941   1000.        ]\n"
          ]
        }
      ]
    },
    {
      "cell_type": "code",
      "source": [
        "#24.. Create a Pandas DataFrame using a NumPy array that contains 5 rows and 3 columns, where the values are random integers between 1 and 100 .\n",
        "import numpy as np\n",
        "import pandas as pd\n",
        "\n",
        "# Create a NumPy array of random integers between 1 and 100\n",
        "np.random.seed(42)  # For reproducibility\n",
        "data = np.random.randint(1, 101, size=(5, 3))\n",
        "\n",
        "# Create a Pandas DataFrame using the NumPy array\n",
        "df = pd.DataFrame(data, columns=['Column1', 'Column2', 'Column3'])\n",
        "\n",
        "print(df)\n"
      ],
      "metadata": {
        "colab": {
          "base_uri": "https://localhost:8080/"
        },
        "id": "LcsrdTEbEVl2",
        "outputId": "db77c5cb-693d-4fda-91f0-f6bab8d85668"
      },
      "execution_count": null,
      "outputs": [
        {
          "output_type": "stream",
          "name": "stdout",
          "text": [
            "   Column1  Column2  Column3\n",
            "0       52       93       15\n",
            "1       72       61       21\n",
            "2       83       87       75\n",
            "3       75       88      100\n",
            "4       24        3       22\n"
          ]
        }
      ]
    },
    {
      "cell_type": "code",
      "source": [
        "# 25. Write a function that takes a Pandas DataFrame and replaces all negative values in a specific column with zeros. Use NumPy operations within the Pandas DataFrame.\n",
        "\n",
        "import pandas as pd\n",
        "\n",
        "def replace_negative_with_zeros(df, column_name):\n",
        "    df[column_name] = np.where(df[column_name] < 0, 0, df[column_name])\n",
        "    return df\n",
        "data = {'A': [1, 2, -3, 4, -5],\n",
        "        'B': [5, -6, 7, -8, 9]}\n",
        "df = pd.DataFrame(data)\n",
        "\n",
        "print(\"Original DataFrame:\")\n",
        "print(df)\n",
        "\n",
        "df = replace_negative_with_zeros(df, 'A')\n",
        "df=replace_negative_with_zeros(df,'B')\n",
        "\n",
        "print(\"\\nDataFrame with negative values replaced by zeros:\")\n",
        "print(df)\n"
      ],
      "metadata": {
        "colab": {
          "base_uri": "https://localhost:8080/"
        },
        "id": "wgty5j9OFHQ4",
        "outputId": "d28c968e-b33d-4b69-9b6a-09390ab39820"
      },
      "execution_count": null,
      "outputs": [
        {
          "output_type": "stream",
          "name": "stdout",
          "text": [
            "Original DataFrame:\n",
            "   A  B\n",
            "0  1  5\n",
            "1  2 -6\n",
            "2 -3  7\n",
            "3  4 -8\n",
            "4 -5  9\n",
            "\n",
            "DataFrame with negative values replaced by zeros:\n",
            "   A  B\n",
            "0  1  5\n",
            "1  2  0\n",
            "2  0  7\n",
            "3  4  0\n",
            "4  0  9\n"
          ]
        }
      ]
    },
    {
      "cell_type": "code",
      "source": [
        "#26. Access the 3rd element from the given NumPy array.\n",
        "arr = np.array([10, 20, 30, 40, 50])\n",
        "\n",
        "import numpy as np\n",
        "\n",
        "arr = np.array([10, 20, 30, 40, 50])\n",
        "third_element = arr[2]\n",
        "\n",
        "print(\"Third element:\", third_element)\n",
        "\n"
      ],
      "metadata": {
        "colab": {
          "base_uri": "https://localhost:8080/"
        },
        "id": "gcXqOXt3GKKb",
        "outputId": "6da180ce-04a6-4854-c0d5-dd5846280021"
      },
      "execution_count": null,
      "outputs": [
        {
          "output_type": "stream",
          "name": "stdout",
          "text": [
            "Third element: 30\n"
          ]
        }
      ]
    },
    {
      "cell_type": "code",
      "source": [
        "#27. Retrieve the element at index (1, 2) from the 2D NumPy array.\n",
        "arr_2d = np.array([[1, 2, 3],\n",
        "                   [4, 5, 6],\n",
        "                   [7, 8, 9]])\n",
        "\n",
        "import numpy as np\n",
        "\n",
        "arr_2d = np.array([[1, 2, 3],\n",
        "                   [4, 5, 6],\n",
        "                   [7, 8, 9]])\n",
        "element_12 = arr_2d[1, 2]\n",
        "\n",
        "print(\"Element at index (1, 2):\", element_12)\n"
      ],
      "metadata": {
        "colab": {
          "base_uri": "https://localhost:8080/"
        },
        "id": "iIxk07cJIzfK",
        "outputId": "e2aeb91e-28be-454f-9faf-2406d7b085dc"
      },
      "execution_count": null,
      "outputs": [
        {
          "output_type": "stream",
          "name": "stdout",
          "text": [
            "Element at index (1, 2): 6\n"
          ]
        }
      ]
    },
    {
      "cell_type": "code",
      "source": [
        "#28. Using boolean indexing, extract elements greater than 5 from the given NumPy array.\n",
        "arr = np.array([3, 8, 2, 10, 5, 7])\n",
        "import numpy as np\n",
        "\n",
        "arr = np.array([3, 8, 2, 10, 5, 7,200])\n",
        "\n",
        "result = arr[arr > 5]\n",
        "\n",
        "print(\"Elements greater than 5:\", result)\n",
        "\n"
      ],
      "metadata": {
        "colab": {
          "base_uri": "https://localhost:8080/"
        },
        "id": "wa-DQzY9JD0y",
        "outputId": "1b5fc843-00ce-4c70-b6b6-7eab6a87cab0"
      },
      "execution_count": null,
      "outputs": [
        {
          "output_type": "stream",
          "name": "stdout",
          "text": [
            "Elements greater than 5: [  8  10   7 200]\n"
          ]
        }
      ]
    },
    {
      "cell_type": "code",
      "source": [
        "#29. Perform basic slicing to extract elements from index 2 to 5 (inclusive) from the given NumPy array.\n",
        "arr = np.array([1, 2, 3, 4, 5, 6, 7, 8, 9])\n",
        "import numpy as np\n",
        "\n",
        "arr = np.array([1, 2, 3, 4, 5, 6, 7, 8, 9])\n",
        "\n",
        "result = arr[2:6]\n",
        "\n",
        "print(\"Elements from index 2 to 5 (inclusive):\", result)\n"
      ],
      "metadata": {
        "colab": {
          "base_uri": "https://localhost:8080/"
        },
        "id": "Oj59X6qNLCzZ",
        "outputId": "c1a31997-7360-4b3e-e980-3fd866cc97f3"
      },
      "execution_count": null,
      "outputs": [
        {
          "output_type": "stream",
          "name": "stdout",
          "text": [
            "Elements from index 2 to 5 (inclusive): [3 4 5 6]\n"
          ]
        }
      ]
    },
    {
      "cell_type": "code",
      "source": [
        "#30. Slice the 2D NumPy array to extract the sub-array `[[2, 3], [5, 6]]` from the given array\n",
        "arr_2D = np.array([[1, 2, 3],\n",
        "                   [4, 5, 6],\n",
        "                   [7, 8, 9]])\n",
        "import numpy as np\n",
        "\n",
        "arr_2D = np.array([[1, 2, 3],\n",
        "                   [4, 5, 6],\n",
        "                   [7, 8, 9]])\n",
        "\n",
        "sub_array = arr_2d[0:2, 1:]\n",
        "\n",
        "print(\"Sub-array [[2, 3], [5, 6]]:\")\n",
        "print(sub_array)\n"
      ],
      "metadata": {
        "colab": {
          "base_uri": "https://localhost:8080/"
        },
        "id": "KNa-BPjKLlYv",
        "outputId": "fc1cd10c-8bca-460b-ec75-58de0614f8e7"
      },
      "execution_count": null,
      "outputs": [
        {
          "output_type": "stream",
          "name": "stdout",
          "text": [
            "Sub-array [[2, 3], [5, 6]]:\n",
            "[[2 3]\n",
            " [5 6]]\n"
          ]
        }
      ]
    },
    {
      "cell_type": "code",
      "source": [
        "#31.Write a NumPy function to extract elements in specific order from a given 2D array based on indices provided in another array.\n",
        "import numpy as np\n",
        "\n",
        "def extract_elements_by_indices(arr_2D, indices):\n",
        "    return arr_2D.ravel()[indices]\n",
        "\n",
        "arr_2D = np.array([[1, 2, 3],\n",
        "                   [4, 5, 6],\n",
        "                   [7, 8, 9]])\n",
        "\n",
        "indices = np.array([1, 4, 2, 5, 7])\n",
        "\n",
        "result = extract_elements_by_indices(arr_2D, indices)\n",
        "print(\"Extracted elements based on indices:\", result)\n"
      ],
      "metadata": {
        "colab": {
          "base_uri": "https://localhost:8080/"
        },
        "id": "FHZ5swxFMMHO",
        "outputId": "c3efcd4c-9275-447d-bb58-80e49cf53797"
      },
      "execution_count": null,
      "outputs": [
        {
          "output_type": "stream",
          "name": "stdout",
          "text": [
            "Extracted elements based on indices: [2 5 3 6 8]\n"
          ]
        }
      ]
    },
    {
      "cell_type": "code",
      "source": [
        "#32. Create a NumPy function that filters elements greater than a threshold from a given 1D array using boolean indexing.\n",
        "import numpy as np\n",
        "\n",
        "def filter_elements_greater_than_threshold(arr, threshold):\n",
        "    return arr[arr > threshold]\n",
        "\n",
        "arr = np.array([1, 2, 3, 4, 5, 6, 7, 8, 9])\n",
        "threshold = 5\n",
        "\n",
        "result = filter_elements_greater_than_threshold(arr, threshold)\n",
        "print(\"Filtered elements greater than\", threshold, \":\", result)\n"
      ],
      "metadata": {
        "colab": {
          "base_uri": "https://localhost:8080/"
        },
        "id": "Gu7EsNk5M7g_",
        "outputId": "b90a844c-a37f-4d00-d6b6-c5210b48396c"
      },
      "execution_count": null,
      "outputs": [
        {
          "output_type": "stream",
          "name": "stdout",
          "text": [
            "Filtered elements greater than 5 : [6 7 8 9]\n"
          ]
        }
      ]
    },
    {
      "cell_type": "code",
      "source": [
        "#33. Develop a NumPy function that extracts specific elements from a 3D array using indices provided in three separate arrays for each dimension.\n",
        "import numpy as np\n",
        "\n",
        "def extract_elements_from_3d_array(arr_3d, indices_dim1, indices_dim2, indices_dim3):\n",
        "    return arr_3d[indices_dim1, indices_dim2, indices_dim3]\n",
        "arr_3d = np.array([[[1, 2, 3],\n",
        "                    [4, 5, 6],\n",
        "                    [7, 8, 9]],\n",
        "                   [[10, 11, 12],\n",
        "                    [13, 14, 15],\n",
        "                    [16, 17, 18]],\n",
        "                   [[19, 20, 21],\n",
        "                    [22, 23, 24],\n",
        "                    [25, 26, 27]]])\n",
        "\n",
        "indices_dim1 = np.array([0, 1, 2])\n",
        "indices_dim2 = np.array([1, 2, 0])\n",
        "indices_dim3 = np.array([2, 0, 1])\n",
        "\n",
        "result = extract_elements_from_3d_array(arr_3d, indices_dim1, indices_dim2, indices_dim3)\n",
        "print(\"Extracted elements:\")\n",
        "print(result)\n"
      ],
      "metadata": {
        "colab": {
          "base_uri": "https://localhost:8080/"
        },
        "id": "5_xmV8tFPF5N",
        "outputId": "0336361b-4489-4157-aec8-ca91c1789749"
      },
      "execution_count": null,
      "outputs": [
        {
          "output_type": "stream",
          "name": "stdout",
          "text": [
            "Extracted elements:\n",
            "[ 6 16 20]\n"
          ]
        }
      ]
    },
    {
      "cell_type": "code",
      "source": [
        "#34. Write a NumPy function that returns elements from an array where both two conditions are satisfied using boolean indexing.\n",
        "import numpy as np\n",
        "\n",
        "def elements_satisfying_conditions(arr, condition1, condition2):\n",
        "    return arr[np.logical_and(condition1, condition2)]\n",
        "arr = np.array([1, 2, 3, 4, 5, 6, 7, 8, 9,12,32,64])\n",
        "condition1 = arr > 3\n",
        "condition2 = arr % 2 == 0\n",
        "\n",
        "result = elements_satisfying_conditions(arr, condition1, condition2)\n",
        "print(\"Elements satisfying both conditions:\")\n",
        "print(result)\n",
        "\n"
      ],
      "metadata": {
        "colab": {
          "base_uri": "https://localhost:8080/"
        },
        "id": "rOjBG8MJQI_x",
        "outputId": "4b013ff3-cfaf-4fea-cf0e-36ffb1ec5813"
      },
      "execution_count": null,
      "outputs": [
        {
          "output_type": "stream",
          "name": "stdout",
          "text": [
            "Elements satisfying both conditions:\n",
            "[ 4  6  8 12 32 64]\n"
          ]
        }
      ]
    },
    {
      "cell_type": "code",
      "source": [
        "#35. Create a NumPy function that extracts elements from a 2D array using row and column indices provided in separate arrays.\n",
        "import numpy as np\n",
        "\n",
        "def extract_elements_from_2d_array(arr_2d, row_indices, col_indices):\n",
        "    return arr_2d[row_indices, col_indices]\n",
        "\n",
        "arr_2d = np.array([[1, 2, 3],\n",
        "                   [4, 5, 6],\n",
        "                   [7, 8, 9]])\n",
        "\n",
        "row_indices = np.array([0, 1, 2])\n",
        "col_indices = np.array([1, 0, 2])\n",
        "\n",
        "result = extract_elements_from_2d_array(arr_2d, row_indices, col_indices)\n",
        "print(\"Extracted elements:\")\n",
        "print(result)\n"
      ],
      "metadata": {
        "colab": {
          "base_uri": "https://localhost:8080/"
        },
        "id": "sBdzZMR7Q-FR",
        "outputId": "f711257e-76cd-4759-ab17-9a282720b54f"
      },
      "execution_count": null,
      "outputs": [
        {
          "output_type": "stream",
          "name": "stdout",
          "text": [
            "Extracted elements:\n",
            "[2 4 9]\n"
          ]
        }
      ]
    },
    {
      "cell_type": "code",
      "source": [
        "#36. Given an array arr of shape (3, 3), add a scalar value of 5 to each element using NumPy broadcasting.\n",
        "import numpy as np\n",
        "\n",
        "# Create the array\n",
        "arr = np.array([[1, 2, 3],\n",
        "                [4, 5, 6],\n",
        "                [7, 8, 9]])\n",
        "\n",
        "result = arr + 10\n",
        "\n",
        "print(result)\n"
      ],
      "metadata": {
        "id": "lA1AmRQ9U7l4",
        "colab": {
          "base_uri": "https://localhost:8080/"
        },
        "outputId": "437d4501-5ba1-4f65-b0bd-e8d65b25a156"
      },
      "execution_count": null,
      "outputs": [
        {
          "output_type": "stream",
          "name": "stdout",
          "text": [
            "[[11 12 13]\n",
            " [14 15 16]\n",
            " [17 18 19]]\n"
          ]
        }
      ]
    },
    {
      "cell_type": "code",
      "source": [
        "#37. Consider two arrays arr1 of shape (1, 3) and arr2 of shape (3, 4). Multiply each row of arr2 by the corresponding element in arr1 using NumPy broadcasting.\n",
        "import numpy as np\n",
        "\n",
        "# Create arr1 of shape (1, 3)\n",
        "arr1 = np.array([[2, 3, 4]])\n",
        "\n",
        "# Create arr2 of shape (3, 4)\n",
        "arr2 = np.array([[1, 2, 3,4],\n",
        "                 [5, 6, 7,8],\n",
        "                 [9, 10, 11,12]])\n",
        "\n",
        "result = arr1 * arr2\n",
        "\n",
        "print(result)\n"
      ],
      "metadata": {
        "colab": {
          "base_uri": "https://localhost:8080/",
          "height": 211
        },
        "id": "8bNkUw3HwZw1",
        "outputId": "651b13c6-9ab9-47d4-e70f-4adcf4e3d367"
      },
      "execution_count": null,
      "outputs": [
        {
          "output_type": "error",
          "ename": "ValueError",
          "evalue": "operands could not be broadcast together with shapes (1,3) (3,4) ",
          "traceback": [
            "\u001b[0;31m---------------------------------------------------------------------------\u001b[0m",
            "\u001b[0;31mValueError\u001b[0m                                Traceback (most recent call last)",
            "\u001b[0;32m<ipython-input-37-a8825a1329ff>\u001b[0m in \u001b[0;36m<cell line: 12>\u001b[0;34m()\u001b[0m\n\u001b[1;32m     10\u001b[0m                  [9, 10, 11,12]])\n\u001b[1;32m     11\u001b[0m \u001b[0;34m\u001b[0m\u001b[0m\n\u001b[0;32m---> 12\u001b[0;31m \u001b[0mresult\u001b[0m \u001b[0;34m=\u001b[0m \u001b[0marr1\u001b[0m \u001b[0;34m*\u001b[0m \u001b[0marr2\u001b[0m\u001b[0;34m\u001b[0m\u001b[0;34m\u001b[0m\u001b[0m\n\u001b[0m\u001b[1;32m     13\u001b[0m \u001b[0;34m\u001b[0m\u001b[0m\n\u001b[1;32m     14\u001b[0m \u001b[0mprint\u001b[0m\u001b[0;34m(\u001b[0m\u001b[0mresult\u001b[0m\u001b[0;34m)\u001b[0m\u001b[0;34m\u001b[0m\u001b[0;34m\u001b[0m\u001b[0m\n",
            "\u001b[0;31mValueError\u001b[0m: operands could not be broadcast together with shapes (1,3) (3,4) "
          ]
        }
      ]
    },
    {
      "cell_type": "code",
      "source": [
        "#38. Given a 1D array arr1 of shape (1, 4) and a 2D array arr2 of shape (4, 3), add arr1 to each row of arr2 using NumPy broadcasting.\n",
        "import numpy as np\n",
        "\n",
        "# Create arr1 of shape (1, 4)\n",
        "arr1 = np.array([[1],\n",
        "                 [2],\n",
        "                 [3],\n",
        "                 [4]])\n",
        "\n",
        "# Create arr2 of shape (4, 3)\n",
        "arr2 = np.array([[5, 6, 7],\n",
        "                 [8, 9, 10],\n",
        "                 [11, 12, 13],\n",
        "                 [14, 15, 16]])\n",
        "\n",
        "result = arr1 + arr2\n",
        "\n",
        "print(result)"
      ],
      "metadata": {
        "colab": {
          "base_uri": "https://localhost:8080/"
        },
        "id": "X0SUMczQwwlz",
        "outputId": "5a28995c-ee40-42d9-8e0c-6874dbbee1b2"
      },
      "execution_count": 1,
      "outputs": [
        {
          "output_type": "stream",
          "name": "stdout",
          "text": [
            "[[ 6  7  8]\n",
            " [10 11 12]\n",
            " [14 15 16]\n",
            " [18 19 20]]\n"
          ]
        }
      ]
    },
    {
      "cell_type": "code",
      "source": [
        "#39. Consider two arrays arr1 of shape (3, 1) and arr2 of shape (1, 3). Add these arrays using NumPy broadcasting.\n",
        "import numpy as np\n",
        "\n",
        "# Define the arrays\n",
        "arr1 = np.array([[1], [2], [3]])  # Shape (3, 1)\n",
        "arr2 = np.array([[4, 5, 6]])      # Shape (1, 3)\n",
        "\n",
        "# Perform broadcasting and addition\n",
        "result = arr1 + arr2\n",
        "\n",
        "# Output the result\n",
        "print(result)\n"
      ],
      "metadata": {
        "id": "su_beBEWxjp7",
        "colab": {
          "base_uri": "https://localhost:8080/"
        },
        "outputId": "1d5ed31e-bfdb-411d-c900-522b647c3154"
      },
      "execution_count": 2,
      "outputs": [
        {
          "output_type": "stream",
          "name": "stdout",
          "text": [
            "[[5 6 7]\n",
            " [6 7 8]\n",
            " [7 8 9]]\n"
          ]
        }
      ]
    },
    {
      "cell_type": "code",
      "source": [
        "#40. Given arrays arr1 of shape (2, 3) and arr2 of shape (2, 2), perform multiplication using NumPy broadcasting. Handle the shape incompatibility\n",
        "import numpy as np\n",
        "arr1 = np.array([[1, 2, 3], [4, 5, 6]])\n",
        "arr2 = np.array([[7, 8], [9, 10]])\n",
        "arr2_reshaped = arr2[:, :, np.newaxis]\n",
        "result = arr1 * arr2_reshaped\n",
        "print(result)\n"
      ],
      "metadata": {
        "colab": {
          "base_uri": "https://localhost:8080/"
        },
        "id": "f4688ciiHfed",
        "outputId": "75e5cd1e-1fdb-4a0b-c388-bf5ca2d09078"
      },
      "execution_count": 4,
      "outputs": [
        {
          "output_type": "stream",
          "name": "stdout",
          "text": [
            "[[[ 7 14 21]\n",
            "  [32 40 48]]\n",
            "\n",
            " [[ 9 18 27]\n",
            "  [40 50 60]]]\n"
          ]
        }
      ]
    },
    {
      "cell_type": "code",
      "source": [
        "#41. Calculate column wise mean for the given array:arr = np.array([[1, 2, 3], [4, 5, 6]]).\n",
        "import numpy as np\n",
        "arr = np.array([[1, 2, 3], [4, 5, 6]])\n",
        "column_mean = np.mean(arr, axis=0)\n",
        "print(column_mean)\n"
      ],
      "metadata": {
        "colab": {
          "base_uri": "https://localhost:8080/"
        },
        "id": "V8ma_PrkHvEF",
        "outputId": "b6ab6197-8311-4d91-ba1e-99f6c9e530e9"
      },
      "execution_count": 5,
      "outputs": [
        {
          "output_type": "stream",
          "name": "stdout",
          "text": [
            "[2.5 3.5 4.5]\n"
          ]
        }
      ]
    },
    {
      "cell_type": "code",
      "source": [
        "#42. Find maximum value in each row of the given array:arr = np.array([[1, 2, 3], [4, 5, 6]]).\n",
        "import numpy as np\n",
        "arr = np.array([[1, 2, 3], [4, 5, 6]])\n",
        "row_max = np.max(arr, axis=1)\n",
        "\n",
        "print(row_max)\n"
      ],
      "metadata": {
        "colab": {
          "base_uri": "https://localhost:8080/"
        },
        "id": "ulzwwOlTILzU",
        "outputId": "b3f1e01b-dd5e-45cc-c481-b1f6ed3ab735"
      },
      "execution_count": 6,
      "outputs": [
        {
          "output_type": "stream",
          "name": "stdout",
          "text": [
            "[3 6]\n"
          ]
        }
      ]
    },
    {
      "cell_type": "code",
      "source": [
        "#43.. For the given array, find indices of maximum value in each column.arr = np.array([[1, 2, 3], [4, 5, 6]])\n",
        "import numpy as np\n",
        "arr = np.array([[1, 2, 3], [4, 5, 6]])\n",
        "column_max_indices = np.argmax(arr, axis=0)\n",
        "print(column_max_indices)\n"
      ],
      "metadata": {
        "colab": {
          "base_uri": "https://localhost:8080/"
        },
        "id": "F18ebKljIeA7",
        "outputId": "6c9eadb4-4003-4271-be29-b0c0a68eee32"
      },
      "execution_count": 8,
      "outputs": [
        {
          "output_type": "stream",
          "name": "stdout",
          "text": [
            "[1 1 1]\n"
          ]
        }
      ]
    },
    {
      "cell_type": "code",
      "source": [
        "#44. For the given array, apply custom function to calculate moving sum along rows.arr = np.array([[1, 2, 3], [4, 5, 6]])\n",
        "import numpy as np\n",
        "\n",
        "\n",
        "arr = np.array([[1, 2, 3], [4, 5, 6]])\n",
        "def moving_sum(arr, window_size=2):\n",
        "    result = np.array([np.convolve(row, np.ones(window_size), mode='valid') for row in arr])\n",
        "    return result\n",
        "result = moving_sum(arr, window_size=2)\n",
        "print(result)\n"
      ],
      "metadata": {
        "colab": {
          "base_uri": "https://localhost:8080/"
        },
        "id": "3VzZsHfFIu04",
        "outputId": "6f5b5af5-e246-48f0-b9d5-a7db75c253a4"
      },
      "execution_count": 10,
      "outputs": [
        {
          "output_type": "stream",
          "name": "stdout",
          "text": [
            "[[ 3.  5.]\n",
            " [ 9. 11.]]\n"
          ]
        }
      ]
    },
    {
      "cell_type": "code",
      "source": [
        "#45. In the given array, check if all elements in each column are even.arr = np.array([[2, 4, 6], [3, 5, 7]]).\n",
        "import numpy as np\n",
        "arr = np.array([[2, 4, 6], [3, 5, 7]])\n",
        "even_check = np.all(arr % 2 == 0, axis=0)\n",
        "\n",
        "print(even_check)\n"
      ],
      "metadata": {
        "colab": {
          "base_uri": "https://localhost:8080/"
        },
        "id": "qoERq4ikJB5w",
        "outputId": "fe3b5384-fb09-4001-bd37-fdcfb13e9d9d"
      },
      "execution_count": 11,
      "outputs": [
        {
          "output_type": "stream",
          "name": "stdout",
          "text": [
            "[False False False]\n"
          ]
        }
      ]
    },
    {
      "cell_type": "code",
      "source": [
        "#46. Given a NumPy array arr, reshape it into a matrix of dimensions `m` rows and `n` columns. Return the reshaped matrix.original_array = np.array([1, 2, 3, 4, 5, 6])\n",
        "import numpy as np\n",
        "\n",
        "original_array = np.array([1, 2, 3, 4, 5, 6])\n",
        "\n",
        "reshaped_matrix = original_array.reshape(2, 3)\n",
        "\n",
        "print(reshaped_matrix)\n"
      ],
      "metadata": {
        "colab": {
          "base_uri": "https://localhost:8080/"
        },
        "id": "nV6stYwsJTqT",
        "outputId": "41b1dad3-f90c-4e20-b743-9300e14c2e1c"
      },
      "execution_count": 12,
      "outputs": [
        {
          "output_type": "stream",
          "name": "stdout",
          "text": [
            "[[1 2 3]\n",
            " [4 5 6]]\n"
          ]
        }
      ]
    },
    {
      "cell_type": "code",
      "source": [
        "#47.Create a function that takes a matrix as input and returns the flattened array.input_matrix = np.array([[1, 2, 3], [4, 5, 6]])\n",
        "import numpy as np\n",
        "\n",
        "def flatten_matrix(matrix):\n",
        "    return matrix.flatten()\n",
        "\n",
        "input_matrix = np.array([[1, 2, 3], [4, 5, 6]])\n",
        "\n",
        "flattened_array = flatten_matrix(input_matrix)\n",
        "print(flattened_array)\n"
      ],
      "metadata": {
        "colab": {
          "base_uri": "https://localhost:8080/"
        },
        "id": "0sg36VqQJmKD",
        "outputId": "6d519b0e-decc-48d5-c461-6aa5c8b1ddeb"
      },
      "execution_count": 14,
      "outputs": [
        {
          "output_type": "stream",
          "name": "stdout",
          "text": [
            "[1 2 3 4 5 6]\n"
          ]
        }
      ]
    },
    {
      "cell_type": "code",
      "source": [
        "#48.Write a function that concatenates two given arrays along a specified axis.\n",
        "#array1 = np.array([[1, 2], [3, 4]]) ,array2 = np.array([[5, 6], [7, 8]])\n",
        "import numpy as np\n",
        "def concatenate_arrays(array1, array2, axis=0):\n",
        "    return np.concatenate((array1, array2), axis=axis)\n",
        "array1 = np.array([[1, 2], [3, 4]])\n",
        "array2 = np.array([[5, 6], [7, 8]])\n",
        "\n",
        "result_axis0 = concatenate_arrays(array1, array2, axis=0)\n",
        "print(\"Concatenation along axis 0 (rows):\")\n",
        "print(result_axis0)\n",
        "result_axis1 = concatenate_arrays(array1, array2, axis=1)\n",
        "print(\"Concatenation along axis 1 (columns):\")\n",
        "print(result_axis1)\n"
      ],
      "metadata": {
        "colab": {
          "base_uri": "https://localhost:8080/"
        },
        "id": "vD80p-SgJyoH",
        "outputId": "228c3158-9488-44d1-d98f-28ca4cbc86e6"
      },
      "execution_count": 16,
      "outputs": [
        {
          "output_type": "stream",
          "name": "stdout",
          "text": [
            "Concatenation along axis 0 (rows):\n",
            "[[1 2]\n",
            " [3 4]\n",
            " [5 6]\n",
            " [7 8]]\n",
            "Concatenation along axis 1 (columns):\n",
            "[[1 2 5 6]\n",
            " [3 4 7 8]]\n"
          ]
        }
      ]
    },
    {
      "cell_type": "code",
      "source": [
        "#49. Create a function that splits an array into multiple sub-arrays along a specified axis.original_array = np.array([[1, 2, 3], [4, 5, 6], [7, 8, 9]])\n",
        "import numpy as np\n",
        "def split_array(array, num_splits, axis=0):\n",
        "    return np.array_split(array, num_splits, axis=axis)\n",
        "original_array = np.array([[1, 2, 3], [4, 5, 6], [7, 8, 9]])\n",
        "split_axis0 = split_array(original_array, 3, axis=0)\n",
        "print(\"Split along axis 0 (rows):\")\n",
        "for sub_array in split_axis0:\n",
        "    print(sub_array)\n",
        "split_axis0\n"
      ],
      "metadata": {
        "colab": {
          "base_uri": "https://localhost:8080/"
        },
        "id": "ZgTWJXKuKGm_",
        "outputId": "74b68dd1-1cc9-48f8-f5f2-1a075a73356d"
      },
      "execution_count": 18,
      "outputs": [
        {
          "output_type": "stream",
          "name": "stdout",
          "text": [
            "Split along axis 0 (rows):\n",
            "[[1 2 3]]\n",
            "[[4 5 6]]\n",
            "[[7 8 9]]\n"
          ]
        },
        {
          "output_type": "execute_result",
          "data": {
            "text/plain": [
              "[array([[1, 2, 3]]), array([[4, 5, 6]]), array([[7, 8, 9]])]"
            ]
          },
          "metadata": {},
          "execution_count": 18
        }
      ]
    },
    {
      "cell_type": "code",
      "source": [
        "#50. Write a function that inserts and then deletes elements from a given array at specified indices.\n",
        "#original_array = np.array([1, 2, 3, 4, 5])\n",
        "#indices_to_insert = [2, 4]\n",
        "#values_to_insert = [10, 11]\n",
        "#indices_to_delete = [1, 3]\n",
        "\n",
        "import numpy as np\n",
        "\n",
        "def insert_and_delete(array, indices_to_insert, values_to_insert, indices_to_delete):\n",
        "    modified_array = np.insert(array, indices_to_insert, values_to_insert)\n",
        "    print(f\"Array after insertion: {modified_array}\")\n",
        "    modified_array = np.delete(modified_array, indices_to_delete)\n",
        "    print(f\"Array after deletion: {modified_array}\")\n",
        "    return modified_array\n",
        "original_array = np.array([1, 2, 3, 4, 5])\n",
        "indices_to_insert = [2, 4]\n",
        "values_to_insert = [10, 11]\n",
        "indices_to_delete = [1, 3]\n",
        "result = insert_and_delete(original_array, indices_to_insert, values_to_insert, indices_to_delete)\n"
      ],
      "metadata": {
        "colab": {
          "base_uri": "https://localhost:8080/"
        },
        "id": "2cdviIFpKVmM",
        "outputId": "e69f1352-1a20-440f-da8e-25f2a6bddefe"
      },
      "execution_count": 20,
      "outputs": [
        {
          "output_type": "stream",
          "name": "stdout",
          "text": [
            "Array after insertion: [ 1  2 10  3  4 11  5]\n",
            "Array after deletion: [ 1 10  4 11  5]\n"
          ]
        }
      ]
    },
    {
      "cell_type": "code",
      "source": [
        "#51. Create a NumPy array `arr1` with random integers and another array `arr2` with integers from 1 to 10. Perform element-wise addition between `arr1` and `arr2`.\n",
        "import numpy as np\n",
        "arr1 = np.random.randint(1, 20, size=5)\n",
        "arr2 = np.array([1, 2, 3, 4, 5])\n",
        "result = arr1 + arr2\n",
        "print(\"arr1:\", arr1)\n",
        "print(\"arr2:\", arr2)\n",
        "print(\"Result of element-wise addition:\", result)\n"
      ],
      "metadata": {
        "colab": {
          "base_uri": "https://localhost:8080/"
        },
        "id": "drJQQ7a9KvJ1",
        "outputId": "ee471eed-8374-4f49-b60a-58d46461213e"
      },
      "execution_count": 22,
      "outputs": [
        {
          "output_type": "stream",
          "name": "stdout",
          "text": [
            "arr1: [ 8  3 10  7 14]\n",
            "arr2: [1 2 3 4 5]\n",
            "Result of element-wise addition: [ 9  5 13 11 19]\n"
          ]
        }
      ]
    },
    {
      "cell_type": "code",
      "source": [
        "#52.Generate a NumPy array `arr1` with sequential integers from 10 to 1 and another array `arr2` with integers from 1 to 10. Subtract `arr2` from `arr1` element-wise.\n",
        "import numpy as np\n",
        "arr1 = np.arange(10, 0, -1)\n",
        "arr2 = np.arange(1, 11)\n",
        "result = arr1 - arr2\n",
        "print(\"arr1:\", arr1)\n",
        "print(\"arr2:\", arr2)\n",
        "print(\"Result of element-wise subtraction:\", result)\n"
      ],
      "metadata": {
        "colab": {
          "base_uri": "https://localhost:8080/"
        },
        "id": "QVViSl7mLmI7",
        "outputId": "0142d7b6-96d2-41c3-ce4f-c72c639cc406"
      },
      "execution_count": 23,
      "outputs": [
        {
          "output_type": "stream",
          "name": "stdout",
          "text": [
            "arr1: [10  9  8  7  6  5  4  3  2  1]\n",
            "arr2: [ 1  2  3  4  5  6  7  8  9 10]\n",
            "Result of element-wise subtraction: [ 9  7  5  3  1 -1 -3 -5 -7 -9]\n"
          ]
        }
      ]
    },
    {
      "cell_type": "code",
      "source": [
        "#53.Create a NumPy array `arr1` with random integers and another array `arr2` with integers from 1 to 5.Perform element-wise multiplication between `arr1` and `arr2`.\n",
        "import numpy as np\n",
        "arr1 = np.random.randint(1, 10, size=5)\n",
        "arr2 = np.array([1, 2, 3, 4, 5])\n",
        "result = arr1 * arr2\n",
        "\n",
        "print(\"arr1:\", arr1)\n",
        "print(\"arr2:\", arr2)\n",
        "print(\"Result of element-wise multiplication:\", result)\n"
      ],
      "metadata": {
        "colab": {
          "base_uri": "https://localhost:8080/"
        },
        "id": "2UUATi8Gdsr0",
        "outputId": "79076b39-a5ec-469e-b1df-6fb25ad2918b"
      },
      "execution_count": 25,
      "outputs": [
        {
          "output_type": "stream",
          "name": "stdout",
          "text": [
            "arr1: [4 4 3 8 6]\n",
            "arr2: [1 2 3 4 5]\n",
            "Result of element-wise multiplication: [ 4  8  9 32 30]\n"
          ]
        }
      ]
    },
    {
      "cell_type": "code",
      "source": [
        "#54.. Generate a NumPy array `arr1` with even integers from 2 to 10 and another array `arr2` with integers from 1 to 5. Perform element-wise division of `arr1` by `arr2`.\n",
        "import numpy as np\n",
        "arr1 = np.arange(2, 11, 2)\n",
        "arr2 = np.array([1, 2, 3, 4, 5])\n",
        "\n",
        "result = arr1 / arr2\n",
        "\n",
        "print(\"arr1:\", arr1)\n",
        "print(\"arr2:\", arr2)\n",
        "print(\"Result of element-wise division:\",result)\n"
      ],
      "metadata": {
        "colab": {
          "base_uri": "https://localhost:8080/"
        },
        "id": "wjnkD6KCd7UI",
        "outputId": "0eab16e0-6516-4b71-abfe-177661c2d921"
      },
      "execution_count": 31,
      "outputs": [
        {
          "output_type": "stream",
          "name": "stdout",
          "text": [
            "arr1: [ 2  4  6  8 10]\n",
            "arr2: [1 2 3 4 5]\n",
            "Result of element-wise division: [2. 2. 2. 2. 2.]\n"
          ]
        }
      ]
    },
    {
      "cell_type": "code",
      "source": [
        "#55. Create a NumPy array `arr1` with integers from 1 to 5 and another array `arr2` with the same numbers reversed. Calculate the exponentiation of `arr1` raised to the power of `arr2` element-wise.\n",
        "import numpy as np\n",
        "\n",
        "arr1 = np.arange(1, 6)\n",
        "arr2 = arr1[::-1]\n",
        "result = arr1 ** arr2\n",
        "\n",
        "print(\"arr1:\", arr1)\n",
        "print(\"arr2:\", arr2)\n",
        "print(\"Result of element-wise exponentiation:\", result)\n"
      ],
      "metadata": {
        "colab": {
          "base_uri": "https://localhost:8080/"
        },
        "id": "MHWrdU70eHVY",
        "outputId": "05f42898-ec87-4539-ebec-4bd06264d592"
      },
      "execution_count": 32,
      "outputs": [
        {
          "output_type": "stream",
          "name": "stdout",
          "text": [
            "arr1: [1 2 3 4 5]\n",
            "arr2: [5 4 3 2 1]\n",
            "Result of element-wise exponentiation: [ 1 16 27 16  5]\n"
          ]
        }
      ]
    },
    {
      "cell_type": "code",
      "source": [
        "#56.Write a function that counts the occurrences of a specific substring within a NumPy array of strings.arr = np.array(['hello', 'world', 'hello', 'numpy', 'hello'])\n",
        "import numpy as np\n",
        "def count_substring_occurrences(arr, substring):\n",
        "    occurrences = np.char.count(arr, substring)\n",
        "    return occurrences.sum()\n",
        "arr = np.array(['hello', 'world', 'hello', 'numpy', 'hello'])\n",
        "substring = 'hello'\n",
        "result = count_substring_occurrences(arr, substring)\n",
        "print(f\"Total occurrences of '{substring}':\", result)\n"
      ],
      "metadata": {
        "colab": {
          "base_uri": "https://localhost:8080/"
        },
        "id": "2S10EP5EePid",
        "outputId": "6678bb07-e8fd-45e4-b326-2e8fb271a207"
      },
      "execution_count": 33,
      "outputs": [
        {
          "output_type": "stream",
          "name": "stdout",
          "text": [
            "Total occurrences of 'hello': 3\n"
          ]
        }
      ]
    },
    {
      "cell_type": "code",
      "source": [
        "#57. Write a function that extracts uppercase characters from a NumPy array of strings.arr = np.array(['Hello', 'World', 'OpenAI', 'GPT']) arr = np.array(['Hello', 'World', 'OpenAI', 'GPT'])\n",
        "import numpy as np\n",
        "def extract_uppercase(arr):\n",
        "    uppercase_chars = []\n",
        "    for string in arr:\n",
        "        uppercase_chars.extend([char for char in string if char.isupper()])\n",
        "    return uppercase_chars\n",
        "arr = np.array(['Hello', 'World', 'OpenAI', 'GPT'])\n",
        "result = extract_uppercase(arr)\n",
        "print(\"Uppercase characters:\", result)\n"
      ],
      "metadata": {
        "colab": {
          "base_uri": "https://localhost:8080/"
        },
        "id": "xkdeoTZ-eWPO",
        "outputId": "0aa6e26e-39ff-4349-d8d7-58a4e811d816"
      },
      "execution_count": 34,
      "outputs": [
        {
          "output_type": "stream",
          "name": "stdout",
          "text": [
            "Uppercase characters: ['H', 'W', 'O', 'A', 'I', 'G', 'P', 'T']\n"
          ]
        }
      ]
    },
    {
      "cell_type": "code",
      "source": [
        "#58.Write a function that replaces occurrences of a substring in a NumPy array of strings with a new string.arr = np.array(['apple', 'banana', 'grape', 'pineapple'])\n",
        "import numpy as np\n",
        "def replace_substring(arr, old_substring, new_substring):\n",
        "    replaced_arr = np.char.replace(arr, old_substring, new_substring)\n",
        "\n",
        "    return replaced_arr\n",
        "arr = np.array(['apple', 'banana', 'grape', 'pineapple'])\n",
        "old_substring = 'apple'\n",
        "new_substring = 'orange'\n",
        "result = replace_substring(arr, old_substring, new_substring)\n",
        "print(\"Array after replacement:\", result)\n"
      ],
      "metadata": {
        "colab": {
          "base_uri": "https://localhost:8080/"
        },
        "id": "10fZlSe1fNES",
        "outputId": "49c52991-1bd7-46d7-f2ea-b74d5b7b0626"
      },
      "execution_count": 35,
      "outputs": [
        {
          "output_type": "stream",
          "name": "stdout",
          "text": [
            "Array after replacement: ['orange' 'banana' 'grape' 'pineorange']\n"
          ]
        }
      ]
    },
    {
      "cell_type": "code",
      "source": [
        "#59.Write a function that concatenates strings in a NumPy array element-wise.arr1 = np.array(['Hello', 'World']) ,arr2 = np.array(['Open', 'AI'])\n",
        "import numpy as np\n",
        "def concatenate_strings(arr1, arr2):\n",
        "    concatenated_arr = np.char.add(arr1, arr2)\n",
        "\n",
        "    return concatenated_arr\n",
        "arr1 = np.array(['Hello', 'World'])\n",
        "arr2 = np.array(['Open', 'AI'])\n",
        "result = concatenate_strings(arr1, arr2)\n",
        "print(\"Concatenated array:\", result)\n",
        "\n"
      ],
      "metadata": {
        "colab": {
          "base_uri": "https://localhost:8080/"
        },
        "id": "Gyaf4GpYfaDl",
        "outputId": "fb2e6a1a-e956-4b34-e94f-cfe3940ce526"
      },
      "execution_count": 37,
      "outputs": [
        {
          "output_type": "stream",
          "name": "stdout",
          "text": [
            "Concatenated array: ['HelloOpen' 'WorldAI']\n"
          ]
        }
      ]
    },
    {
      "cell_type": "code",
      "source": [
        "#60. Write a function that finds the length of the longest string in a NumPy array.arr = np.array(['apple', 'banana', 'grape', 'pineapple']),arr = np.array(['apple', 'banana', 'grape', 'pineapple'])\n",
        "import numpy as np\n",
        "def longest_string_length(arr):\n",
        "    lengths = np.char.str_len(arr)\n",
        "    return np.max(lengths)\n",
        "arr = np.array(['apple', 'banana', 'grape', 'pineapple'])\n",
        "result = longest_string_length(arr)\n",
        "print(\"Length of the longest string:\", result)\n"
      ],
      "metadata": {
        "colab": {
          "base_uri": "https://localhost:8080/"
        },
        "id": "HBOm4f1SfpTB",
        "outputId": "80dd1a9a-d085-483b-cb24-6554aa7bdb1d"
      },
      "execution_count": 38,
      "outputs": [
        {
          "output_type": "stream",
          "name": "stdout",
          "text": [
            "Length of the longest string: 9\n"
          ]
        }
      ]
    },
    {
      "cell_type": "code",
      "source": [
        "#61.. Create a dataset of 100 random integers between 1 and 1000. Compute the mean, median, variance, and standard deviation of the dataset using NumPy's functions.\n",
        "import numpy as np\n",
        "dataset = np.random.randint(1, 1001, size=100)\n",
        "mean = np.mean(dataset)\n",
        "median = np.median(dataset)\n",
        "variance = np.var(dataset)\n",
        "std_deviation = np.std(dataset)\n",
        "print(\"Dataset:\", dataset)\n",
        "print(\"Mean:\", mean)\n",
        "print(\"Median:\", median)\n",
        "print(\"Variance:\", variance)\n",
        "print(\"Standard Deviation:\", std_deviation)\n"
      ],
      "metadata": {
        "colab": {
          "base_uri": "https://localhost:8080/"
        },
        "id": "iPMZ9TGxgNWz",
        "outputId": "d8b7ab5f-120a-48b2-d127-03847bd70a89"
      },
      "execution_count": 39,
      "outputs": [
        {
          "output_type": "stream",
          "name": "stdout",
          "text": [
            "Dataset: [375  18 366 317 424 535 892 167 715 835 584  24 500 154 240 306 718 302\n",
            " 435 460 373 113 656  14 192 417  80 928 578 922  28 149 124 796 110 572\n",
            " 178 183 339 117 264 888  47 263 470 252  59  12 321 827 890 224 773 129\n",
            " 407 312 268 854 129 728 462 668 182 726 812 564 752 833 841 459 696 754\n",
            " 680  47  60 918 508 187 176   2 636 397 805 800 665 757 203 465 939 558\n",
            " 277 583 617 140 202 988 798 789 361 158]\n",
            "Mean: 448.18\n",
            "Median: 420.5\n",
            "Variance: 83097.3276\n",
            "Standard Deviation: 288.26607084428093\n"
          ]
        }
      ]
    },
    {
      "cell_type": "code",
      "source": [
        "#62.. Generate an array of 50 random numbers between 1 and 100. Find the 25th and 75th percentiles of the dataset.\n",
        "import numpy as np\n",
        "dataset = np.random.randint(1, 101, size=50)\n",
        "\n",
        "percentile_25 = np.percentile(dataset, 25)\n",
        "percentile_75 = np.percentile(dataset, 75)\n",
        "print(\"Dataset:\", dataset)\n",
        "print(\"25th Percentile:\", percentile_25)\n",
        "print(\"75th Percentile:\", percentile_75)\n",
        "\n",
        "\n"
      ],
      "metadata": {
        "colab": {
          "base_uri": "https://localhost:8080/"
        },
        "id": "xjhoyt47gWld",
        "outputId": "6d38e036-8af1-4dd7-dfe5-51c696696e19"
      },
      "execution_count": 40,
      "outputs": [
        {
          "output_type": "stream",
          "name": "stdout",
          "text": [
            "Dataset: [ 37  86  12  60  27  67  93  54  81  71  87  35  55   8  48  46  60  96\n",
            "  35  92  26  23  89  52  18  46 100  12  94  41   8   9  72  22  89  52\n",
            "  13  12  43  54  76  54  47  45  61   5   3  68  52  39]\n",
            "25th Percentile: 26.25\n",
            "75th Percentile: 70.25\n"
          ]
        }
      ]
    },
    {
      "cell_type": "code",
      "source": [
        "#63.Create two arrays representing two sets of variables. Compute the correlation coefficient between these arrays using NumPy's `corrcoef` function.\n",
        "import numpy as np\n",
        "array1 = np.array([1, 2, 3, 4, 5])\n",
        "array2 = np.array([5, 4, 3, 2, 1])\n",
        "correlation_matrix = np.corrcoef(array1, array2)\n",
        "print(\"Correlation Coefficient Matrix:\")\n",
        "print(correlation_matrix)\n",
        "correlation_coefficient = correlation_matrix[0, 1]\n",
        "print(\"\\nCorrelation Coefficient between array1 and array2:\", correlation_coefficient)\n"
      ],
      "metadata": {
        "colab": {
          "base_uri": "https://localhost:8080/"
        },
        "id": "xEN8_hlogfdP",
        "outputId": "aff92ad9-1e87-45d5-a945-21a255c22eaa"
      },
      "execution_count": 41,
      "outputs": [
        {
          "output_type": "stream",
          "name": "stdout",
          "text": [
            "Correlation Coefficient Matrix:\n",
            "[[ 1. -1.]\n",
            " [-1.  1.]]\n",
            "\n",
            "Correlation Coefficient between array1 and array2: -0.9999999999999999\n"
          ]
        }
      ]
    },
    {
      "cell_type": "code",
      "source": [
        "#64. Create two matrices and perform matrix multiplication using NumPy's `dot` function.import numpy as np\n",
        "matrix1 = np.array([[1, 2], [3, 4]])\n",
        "matrix2 = np.array([[5, 6], [7, 8]])\n",
        "result = np.dot(matrix1, matrix2)\n",
        "print(\"Matrix 1:\")\n",
        "print(matrix1)\n",
        "\n",
        "print(\"\\nMatrix 2:\")\n",
        "print(matrix2)\n",
        "\n",
        "print(\"\\nMatrix Multiplication Result:\")\n",
        "print(result)\n"
      ],
      "metadata": {
        "colab": {
          "base_uri": "https://localhost:8080/"
        },
        "id": "_fcCiN2MgomX",
        "outputId": "bfc9fb2b-9fb9-4fa9-d950-6137d9502e86"
      },
      "execution_count": 67,
      "outputs": [
        {
          "output_type": "stream",
          "name": "stdout",
          "text": [
            "Matrix 1:\n",
            "[[1 2]\n",
            " [3 4]]\n",
            "\n",
            "Matrix 2:\n",
            "[[5 6]\n",
            " [7 8]]\n",
            "\n",
            "Matrix Multiplication Result:\n",
            "[[19 22]\n",
            " [43 50]]\n"
          ]
        }
      ]
    },
    {
      "cell_type": "code",
      "source": [
        "#65.Create an array of 50 integers between 10 and 1000. Calculate the 10th, 50th (median), and 90th percentiles along with the first and third quartiles.\n",
        "import numpy as np\n",
        "dataset = np.random.randint(10, 1001, size=50)\n",
        "percentile_10 = np.percentile(dataset, 10)\n",
        "percentile_50 = np.percentile(dataset, 50)\n",
        "percentile_90 = np.percentile(dataset, 90)\n",
        "first_quartile = np.quantile(dataset, 0.25)\n",
        "third_quartile = np.quantile(dataset, 0.75)\n",
        "print(\"Dataset:\", dataset)\n",
        "print(\"10th Percentile:\", percentile_10)\n",
        "print(\"50th Percentile (Median):\", percentile_50)\n",
        "print(\"90th Percentile:\", percentile_90)\n",
        "print(\"First Quartile (25th Percentile):\", first_quartile)\n",
        "print(\"Third Quartile (75th Percentile):\", third_quartile)\n"
      ],
      "metadata": {
        "colab": {
          "base_uri": "https://localhost:8080/"
        },
        "id": "hWfP-fIfgypu",
        "outputId": "bd5e8b78-57ac-4384-cac2-026c9ffd8c60"
      },
      "execution_count": 43,
      "outputs": [
        {
          "output_type": "stream",
          "name": "stdout",
          "text": [
            "Dataset: [941 415 723 760 739 621 269 796 223 119 577 576 480 895 738 212 391 344\n",
            " 451 305 778  29 606 653 730 510 658 733 449 601 459 835 317 846 630 230\n",
            " 481 123 335 200 570 344 693 673 630 745 394 291 320 223]\n",
            "10th Percentile: 221.9\n",
            "50th Percentile (Median): 540.0\n",
            "90th Percentile: 779.8000000000001\n",
            "First Quartile (25th Percentile): 323.75\n",
            "Third Quartile (75th Percentile): 715.5\n"
          ]
        }
      ]
    },
    {
      "cell_type": "code",
      "source": [
        "#66.Create a NumPy array of integers and find the index of a specific element.\n",
        "import numpy as np\n",
        "arr = np.array([10, 20, 30, 40, 50, 60, 70, 80, 90, 100])\n",
        "element_to_find = 40\n",
        "indices = np.where(arr == element_to_find)\n",
        "print(f\"Array: {arr}\")\n",
        "print(f\"Index of element {element_to_find}: {indices[0][0]}\")\n"
      ],
      "metadata": {
        "colab": {
          "base_uri": "https://localhost:8080/"
        },
        "id": "kGS-pxZeg6so",
        "outputId": "3d0d679d-46f8-4c51-f57d-0fd5473ccf8e"
      },
      "execution_count": 44,
      "outputs": [
        {
          "output_type": "stream",
          "name": "stdout",
          "text": [
            "Array: [ 10  20  30  40  50  60  70  80  90 100]\n",
            "Index of element 40: 3\n"
          ]
        }
      ]
    },
    {
      "cell_type": "code",
      "source": [
        "#67.Generate a random NumPy array and sort it in ascending order.\n",
        "import numpy as np\n",
        "random_array = np.random.randint(1, 101, size=10)\n",
        "sorted_array = np.sort(random_array)\n",
        "print(\"Original Random Array:\", random_array)\n",
        "print(\"Sorted Array (Ascending):\", sorted_array)\n"
      ],
      "metadata": {
        "colab": {
          "base_uri": "https://localhost:8080/"
        },
        "id": "Syb8dNf0hBJy",
        "outputId": "18936bad-882d-43cd-d398-3f72e0677724"
      },
      "execution_count": 46,
      "outputs": [
        {
          "output_type": "stream",
          "name": "stdout",
          "text": [
            "Original Random Array: [90 28 91 17 78  5  2 46 42 65]\n",
            "Sorted Array (Ascending): [ 2  5 17 28 42 46 65 78 90 91]\n"
          ]
        }
      ]
    },
    {
      "cell_type": "code",
      "source": [
        "#68. Filter elements >20  in the given NumPy array.arr = np.array([12, 25, 6, 42, 8, 30])\n",
        "import numpy as np\n",
        "arr = np.array([12, 25, 6, 42, 8, 30])\n",
        "\n",
        "filtered_elements = arr[arr > 20]\n",
        "print(\"Original Array:\", arr)\n",
        "print(\"Filtered Elements (greater than 20):\", filtered_elements)\n"
      ],
      "metadata": {
        "colab": {
          "base_uri": "https://localhost:8080/"
        },
        "id": "HDfTJpvkhD_r",
        "outputId": "9b038275-4e19-4d3f-867d-1f255bf444de"
      },
      "execution_count": 47,
      "outputs": [
        {
          "output_type": "stream",
          "name": "stdout",
          "text": [
            "Original Array: [12 25  6 42  8 30]\n",
            "Filtered Elements (greater than 20): [25 42 30]\n"
          ]
        }
      ]
    },
    {
      "cell_type": "code",
      "source": [
        "#69. Filter elements which are divisible by 3 from a given NumPy array.arr = np.array([1, 5, 8, 12, 15])\n",
        "import numpy as np\n",
        "arr = np.array([1, 5, 8, 12, 15])\n",
        "filtered_elements = arr[arr % 3 == 0]\n",
        "\n",
        "print(\"Original Array:\", arr)\n",
        "print(\"Filtered Elements (divisible by 3):\", filtered_elements)\n"
      ],
      "metadata": {
        "colab": {
          "base_uri": "https://localhost:8080/"
        },
        "id": "7TVpd9hKhVA6",
        "outputId": "6e02f67e-9528-455b-a335-db1c46a92ad1"
      },
      "execution_count": 48,
      "outputs": [
        {
          "output_type": "stream",
          "name": "stdout",
          "text": [
            "Original Array: [ 1  5  8 12 15]\n",
            "Filtered Elements (divisible by 3): [12 15]\n"
          ]
        }
      ]
    },
    {
      "cell_type": "code",
      "source": [
        "#70.. Filter elements which are ≥ 20 and ≤ 40 from a given NumPy array.arr = np.array([10, 20, 30, 40, 50])\n",
        "import numpy as np\n",
        "arr = np.array([10, 20, 30, 40, 50])\n",
        "filtered_elements = arr[(arr >= 20) & (arr <= 40)]\n",
        "print(\"Original Array:\", arr)\n",
        "print(\"Filtered Elements (≥ 20 and ≤ 40):\", filtered_elements)\n"
      ],
      "metadata": {
        "colab": {
          "base_uri": "https://localhost:8080/"
        },
        "id": "VV7u3vllhe46",
        "outputId": "6e8d0d4c-fc6c-47b6-864f-fec0d91ebe74"
      },
      "execution_count": 49,
      "outputs": [
        {
          "output_type": "stream",
          "name": "stdout",
          "text": [
            "Original Array: [10 20 30 40 50]\n",
            "Filtered Elements (≥ 20 and ≤ 40): [20 30 40]\n"
          ]
        }
      ]
    },
    {
      "cell_type": "code",
      "source": [
        "#71. For the given NumPy array, check its byte order using the `dtype` attribute byteorder.arr = np.array([1, 2, 3])\n",
        "import numpy as np\n",
        "arr = np.array([1, 2, 3])\n",
        "byte_order = arr.dtype.byteorder\n",
        "print(f\"Byte order of the array: {byte_order}\")\n"
      ],
      "metadata": {
        "colab": {
          "base_uri": "https://localhost:8080/"
        },
        "id": "T9URdPKLhoMJ",
        "outputId": "d0f47ee9-2178-4491-c771-f0b42fe9bfe6"
      },
      "execution_count": 50,
      "outputs": [
        {
          "output_type": "stream",
          "name": "stdout",
          "text": [
            "Byte order of the array: =\n"
          ]
        }
      ]
    },
    {
      "cell_type": "code",
      "source": [
        "# 72.For the given NumPy array, perform byte swapping in place using `byteswap()`.arr = np.array([1, 2, 3], dtype=np.int32)\n",
        "import numpy as np\n",
        "arr = np.array([1, 2, 3], dtype=np.int32)\n",
        "arr_swapped = arr.byteswap()\n",
        "print(\"Original Array:\", arr)\n",
        "print(\"Array after Byte Swapping:\", arr_swapped)\n"
      ],
      "metadata": {
        "colab": {
          "base_uri": "https://localhost:8080/"
        },
        "id": "DRf9uvBrhx97",
        "outputId": "f6b682ef-4e45-4cd3-e006-9954869801f6"
      },
      "execution_count": 51,
      "outputs": [
        {
          "output_type": "stream",
          "name": "stdout",
          "text": [
            "Original Array: [1 2 3]\n",
            "Array after Byte Swapping: [16777216 33554432 50331648]\n"
          ]
        }
      ]
    },
    {
      "cell_type": "code",
      "source": [
        "#73. For the given NumPy array, swap its byte order without modifying the original array using `newbyteorder()`.arr = np.array([1, 2, 3], dtype=np.int32)\n",
        "import numpy as np\n",
        "arr = np.array([1, 2, 3], dtype=np.int32)\n",
        "arr_swapped = arr.newbyteorder()\n",
        "print(\"Original Array:\", arr)\n",
        "print(\"Array after Byte Order Swap:\", arr_swapped)\n"
      ],
      "metadata": {
        "colab": {
          "base_uri": "https://localhost:8080/"
        },
        "id": "SyAsmyW7h_KN",
        "outputId": "199050a9-671d-4df0-ba0f-096a9252e887"
      },
      "execution_count": 52,
      "outputs": [
        {
          "output_type": "stream",
          "name": "stdout",
          "text": [
            "Original Array: [1 2 3]\n",
            "Array after Byte Order Swap: [16777216 33554432 50331648]\n"
          ]
        }
      ]
    },
    {
      "cell_type": "code",
      "source": [
        "#74.. For the given NumPy array and swap its byte order conditionally based on system endianness using `newbyteorder()`.arr = np.array([1, 2, 3], dtype=np.int32)\n",
        "\n",
        "import numpy as np\n",
        "import sys\n",
        "arr = np.array([1, 2, 3], dtype=np.int32)\n",
        "system_endianness = sys.byteorder\n",
        "if system_endianness == 'little':\n",
        "    arr_swapped = arr.newbyteorder('>')\n",
        "else:\n",
        "    arr_swapped = arr.newbyteorder('<')\n",
        "print(\"Original Array:\", arr)\n",
        "print(\"Array after Conditional Byte Order Swap:\", arr_swapped)\n"
      ],
      "metadata": {
        "colab": {
          "base_uri": "https://localhost:8080/"
        },
        "id": "mUYLp8sRiR-k",
        "outputId": "c3fc95c9-5080-4fd6-a95b-3ea5f304b640"
      },
      "execution_count": 53,
      "outputs": [
        {
          "output_type": "stream",
          "name": "stdout",
          "text": [
            "Original Array: [1 2 3]\n",
            "Array after Conditional Byte Order Swap: [16777216 33554432 50331648]\n"
          ]
        }
      ]
    },
    {
      "cell_type": "code",
      "source": [
        "#76.. Create a NumPy array `arr1` with values from 1 to 10. Create a copy of `arr1` named `copy_arr` and modify an element in `copy_arr`. Check if modifying `copy_arr` affects `arr1`.\n",
        "import numpy as np\n",
        "arr1 = np.arange(1, 11)\n",
        "copy_arr = arr1.copy()\n",
        "copy_arr[0] = 100\n",
        "print(\"Original Array (arr1):\", arr1)\n",
        "print(\"Modified Copy Array (copy_arr):\", copy_arr)\n"
      ],
      "metadata": {
        "colab": {
          "base_uri": "https://localhost:8080/"
        },
        "id": "h4EacMzeifa1",
        "outputId": "4c94c5b8-0634-4830-aa33-dcc30aa5b728"
      },
      "execution_count": 54,
      "outputs": [
        {
          "output_type": "stream",
          "name": "stdout",
          "text": [
            "Original Array (arr1): [ 1  2  3  4  5  6  7  8  9 10]\n",
            "Modified Copy Array (copy_arr): [100   2   3   4   5   6   7   8   9  10]\n"
          ]
        }
      ]
    },
    {
      "cell_type": "code",
      "source": [
        "#77. Create a 2D NumPy array `matrix` of shape (3, 3) with random integers. Extract a slice `view_slice` from the matrix. Modify an element in `view_slice` and observe if it changes the original `matrix`.\n",
        "import numpy as np\n",
        "matrix = np.random.randint(1, 10, size=(3, 3))\n",
        "view_slice = matrix[:2, :2]\n",
        "view_slice[0, 0] = 100\n",
        "\n",
        "print(\"Original Matrix (matrix):\")\n",
        "print(matrix)\n",
        "print(\"\\nModified Slice (view_slice):\")\n",
        "print(view_slice)\n"
      ],
      "metadata": {
        "colab": {
          "base_uri": "https://localhost:8080/"
        },
        "id": "ZJEOQv2jipEB",
        "outputId": "fa3de500-351c-4e4e-f1d1-9cd56f94080c"
      },
      "execution_count": 55,
      "outputs": [
        {
          "output_type": "stream",
          "name": "stdout",
          "text": [
            "Original Matrix (matrix):\n",
            "[[100   7   1]\n",
            " [  2   4   1]\n",
            " [  8   6   2]]\n",
            "\n",
            "Modified Slice (view_slice):\n",
            "[[100   7]\n",
            " [  2   4]]\n"
          ]
        }
      ]
    },
    {
      "cell_type": "code",
      "source": [
        "#78. Create a NumPy array `array_a` of shape (4, 3) with sequential integers from 1 to 12. Extract a slice `view_b` from `array_a` and broadcast the addition of 5 to view_b. Check if it alters the original `array_a`.\n",
        "import numpy as np\n",
        "array_a = np.arange(1, 13).reshape(4, 3)\n",
        "view_b = array_a[:2, :2]\n",
        "view_b += 5\n",
        "print(\"Original Array (array_a):\")\n",
        "print(array_a)\n",
        "print(\"\\nModified Slice (view_b):\")\n",
        "print(view_b)\n"
      ],
      "metadata": {
        "colab": {
          "base_uri": "https://localhost:8080/"
        },
        "id": "MKL7MLOwixuA",
        "outputId": "2dc5acaf-a066-46e5-b64f-d251401eac01"
      },
      "execution_count": 56,
      "outputs": [
        {
          "output_type": "stream",
          "name": "stdout",
          "text": [
            "Original Array (array_a):\n",
            "[[ 6  7  3]\n",
            " [ 9 10  6]\n",
            " [ 7  8  9]\n",
            " [10 11 12]]\n",
            "\n",
            "Modified Slice (view_b):\n",
            "[[ 6  7]\n",
            " [ 9 10]]\n"
          ]
        }
      ]
    },
    {
      "cell_type": "code",
      "source": [
        "#79.Create a NumPy array `orig_array` of shape (2, 4) with values from 1 to 8. Create a reshaped view `reshaped_view` of shape (4, 2) from orig_array. Modify an element in `reshaped_view` and check if it reflects changes in the original `orig_array`.\n",
        "import numpy as np\n",
        "orig_array = np.arange(1, 9).reshape(2, 4)\n",
        "reshaped_view = orig_array.reshape(4, 2)\n",
        "\n",
        "reshaped_view[0, 0] = 100\n",
        "print(\"Original Array (orig_array):\")\n",
        "print(orig_array)\n",
        "print(\"\\nReshaped View (reshaped_view):\")\n",
        "print(reshaped_view)\n"
      ],
      "metadata": {
        "colab": {
          "base_uri": "https://localhost:8080/"
        },
        "id": "zClW80vTjArq",
        "outputId": "3cc52446-04f9-46bf-f84f-ce6c80326bb4"
      },
      "execution_count": 57,
      "outputs": [
        {
          "output_type": "stream",
          "name": "stdout",
          "text": [
            "Original Array (orig_array):\n",
            "[[100   2   3   4]\n",
            " [  5   6   7   8]]\n",
            "\n",
            "Reshaped View (reshaped_view):\n",
            "[[100   2]\n",
            " [  3   4]\n",
            " [  5   6]\n",
            " [  7   8]]\n"
          ]
        }
      ]
    },
    {
      "cell_type": "code",
      "source": [
        "#80.Create a NumPy array `data` of shape (3, 4) with random integers. Extract a copy `data_copy` of elements greater than 5. Modify an element in `data_copy` and verify if it affects the original `data`.\n",
        "import numpy as np\n",
        "data = np.random.randint(1, 11, size=(3, 4))\n",
        "data_copy = data[data > 5].copy()\n",
        "data_copy[0] = 100\n",
        "\n",
        "print(\"Original Data (data):\")\n",
        "print(data)\n",
        "print(\"\\nModified Copy (data_copy):\")\n",
        "print(data_copy)\n"
      ],
      "metadata": {
        "colab": {
          "base_uri": "https://localhost:8080/"
        },
        "id": "Gk8v67ngjScu",
        "outputId": "d16e17b2-5d1f-4391-e43b-1c22df46d1dc"
      },
      "execution_count": 59,
      "outputs": [
        {
          "output_type": "stream",
          "name": "stdout",
          "text": [
            "Original Data (data):\n",
            "[[ 2  5  6  5]\n",
            " [ 7  6 10  4]\n",
            " [ 7  6  2 10]]\n",
            "\n",
            "Modified Copy (data_copy):\n",
            "[100   7   6  10   7   6  10]\n"
          ]
        }
      ]
    },
    {
      "cell_type": "code",
      "source": [
        "#81. Create two matrices A and B of identical shape containing integers and perform addition and subtraction operations between them.\n",
        "import numpy as np\n",
        "\n",
        "A = np.array([[1, 2, 3], [4, 5, 6], [7, 8, 9]])\n",
        "B = np.array([[9, 8, 7], [6, 5, 4], [3, 2, 1]])\n",
        "\n",
        "addition_result = A + B\n",
        "subtraction_result = A - B\n",
        "\n",
        "\n",
        "print(\"Matrix A:\")\n",
        "print(A)\n",
        "print(\"\\nMatrix B:\")\n",
        "print(B)\n",
        "print(\"\\nAddition of A and B:\")\n",
        "print(addition_result)\n",
        "print(\"\\nSubtraction of A and B:\")\n",
        "print(subtraction_result)\n"
      ],
      "metadata": {
        "colab": {
          "base_uri": "https://localhost:8080/"
        },
        "id": "uWJmrxZOjeAk",
        "outputId": "d1a1d1a2-22bd-4547-9cad-60315e807365"
      },
      "execution_count": 62,
      "outputs": [
        {
          "output_type": "stream",
          "name": "stdout",
          "text": [
            "Matrix A:\n",
            "[[1 2 3]\n",
            " [4 5 6]\n",
            " [7 8 9]]\n",
            "\n",
            "Matrix B:\n",
            "[[9 8 7]\n",
            " [6 5 4]\n",
            " [3 2 1]]\n",
            "\n",
            "Addition of A and B:\n",
            "[[10 10 10]\n",
            " [10 10 10]\n",
            " [10 10 10]]\n",
            "\n",
            "Subtraction of A and B:\n",
            "[[-8 -6 -4]\n",
            " [-2  0  2]\n",
            " [ 4  6  8]]\n"
          ]
        }
      ]
    },
    {
      "cell_type": "code",
      "source": [
        "#82. Generate two matrices `C` (3x2) and `D` (2x4) and perform matrix multiplication.\n",
        "import numpy as np\n",
        "\n",
        "C = np.array([[1, 2], [3, 4], [5, 6]])\n",
        "D = np.array([[7, 8, 9, 10], [11, 12, 13, 14]])\n",
        "\n",
        "matrix_multiplication_result = np.dot(C, D)\n",
        "\n",
        "print(C)\n",
        "print(\"\\nMatrix D (2x4):\")\n",
        "print(D)\n",
        "print(\"\\nResult of Matrix Multiplication (C @ D):\")\n",
        "print(matrix_multiplication_result)\n",
        "\n",
        "\n",
        "\n"
      ],
      "metadata": {
        "colab": {
          "base_uri": "https://localhost:8080/"
        },
        "id": "QG_GrwyLjonB",
        "outputId": "beb973ec-eb24-4841-9319-1436de82f61d"
      },
      "execution_count": 63,
      "outputs": [
        {
          "output_type": "stream",
          "name": "stdout",
          "text": [
            "Matrix C (3x2):\n",
            "[[1 2]\n",
            " [3 4]\n",
            " [5 6]]\n",
            "\n",
            "Matrix D (2x4):\n",
            "[[ 7  8  9 10]\n",
            " [11 12 13 14]]\n",
            "\n",
            "Result of Matrix Multiplication (C @ D):\n",
            "[[ 29  32  35  38]\n",
            " [ 65  72  79  86]\n",
            " [101 112 123 134]]\n"
          ]
        }
      ]
    },
    {
      "cell_type": "code",
      "source": [
        "#83. Create a matrix `E` and find its transpose.\n",
        "import numpy as np\n",
        "E = np.array([[1, 2, 3, 4], [5, 6, 7, 8], [9, 10, 11, 12]])\n",
        "E_transpose = E.T\n",
        "print(\"Original Matrix E:\")\n",
        "print(E)\n",
        "print(\"\\nTranspose of Matrix E:\")\n",
        "print(E_transpose)\n"
      ],
      "metadata": {
        "colab": {
          "base_uri": "https://localhost:8080/"
        },
        "id": "MWohzK13j7-x",
        "outputId": "a4080ee2-af11-48ae-9b87-d31b4f1d5ea1"
      },
      "execution_count": 64,
      "outputs": [
        {
          "output_type": "stream",
          "name": "stdout",
          "text": [
            "Original Matrix E:\n",
            "[[ 1  2  3  4]\n",
            " [ 5  6  7  8]\n",
            " [ 9 10 11 12]]\n",
            "\n",
            "Transpose of Matrix E:\n",
            "[[ 1  5  9]\n",
            " [ 2  6 10]\n",
            " [ 3  7 11]\n",
            " [ 4  8 12]]\n"
          ]
        }
      ]
    },
    {
      "cell_type": "code",
      "source": [
        "#84. Generate a square matrix `F` and compute its determinant.\n",
        "import numpy as np\n",
        "\n",
        "F = np.array([[1, 2, 3], [4, 5, 6], [7, 8, 9]])\n",
        "\n",
        "det_F = np.linalg.det(F)\n",
        "\n",
        "print(\"Original Matrix F:\")\n",
        "print(F)\n",
        "print(\"\\nDeterminant of Matrix F:\")\n",
        "print(det_F)\n"
      ],
      "metadata": {
        "colab": {
          "base_uri": "https://localhost:8080/"
        },
        "id": "U7rzgqsDkHDe",
        "outputId": "cc3c9875-7f2c-4ea3-a518-c2971c970cfd"
      },
      "execution_count": 65,
      "outputs": [
        {
          "output_type": "stream",
          "name": "stdout",
          "text": [
            "Original Matrix F:\n",
            "[[1 2 3]\n",
            " [4 5 6]\n",
            " [7 8 9]]\n",
            "\n",
            "Determinant of Matrix F:\n",
            "0.0\n"
          ]
        }
      ]
    },
    {
      "cell_type": "code",
      "source": [
        "#85. Create a square matrix `G` and find its inverse.\n",
        "import numpy as np\n",
        "G = np.array([[4, 7], [2, 6]])\n",
        "try:\n",
        "    G_inverse = np.linalg.inv(G)\n",
        "\n",
        "    print(\"Original Matrix G:\")\n",
        "    print(G)\n",
        "    print(\"\\nInverse of Matrix G:\")\n",
        "    print(G_inverse)\n",
        "except np.linalg.LinAlgError:\n",
        "    print(\"Matrix G is singular and does not have an inverse.\")\n"
      ],
      "metadata": {
        "colab": {
          "base_uri": "https://localhost:8080/"
        },
        "id": "fAir5j3KkOvU",
        "outputId": "811996ab-b427-449a-ebe3-e1f0a64cf1c4"
      },
      "execution_count": 66,
      "outputs": [
        {
          "output_type": "stream",
          "name": "stdout",
          "text": [
            "Original Matrix G:\n",
            "[[4 7]\n",
            " [2 6]]\n",
            "\n",
            "Inverse of Matrix G:\n",
            "[[ 0.6 -0.7]\n",
            " [-0.2  0.4]]\n"
          ]
        }
      ]
    },
    {
      "cell_type": "code",
      "source": [],
      "metadata": {
        "id": "CK0nKuTJkYLx"
      },
      "execution_count": null,
      "outputs": []
    }
  ]
}